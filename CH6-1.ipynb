{
 "cells": [
  {
   "cell_type": "markdown",
   "metadata": {},
   "source": [
    "# CH6-1:DataFrame loc,iloc\n",
    "### DataFrame比Numpyndarray(element-wise)提供資料統整的功能，通常為二維資料\n",
    "\n",
    "### 橫的為列(索引index)，直的為欄(column)"
   ]
  },
  {
   "cell_type": "code",
   "execution_count": 1,
   "metadata": {},
   "outputs": [
    {
     "data": {
      "text/html": [
       "<div>\n",
       "<style scoped>\n",
       "    .dataframe tbody tr th:only-of-type {\n",
       "        vertical-align: middle;\n",
       "    }\n",
       "\n",
       "    .dataframe tbody tr th {\n",
       "        vertical-align: top;\n",
       "    }\n",
       "\n",
       "    .dataframe thead th {\n",
       "        text-align: right;\n",
       "    }\n",
       "</style>\n",
       "<table border=\"1\" class=\"dataframe\">\n",
       "  <thead>\n",
       "    <tr style=\"text-align: right;\">\n",
       "      <th></th>\n",
       "      <th>A</th>\n",
       "      <th>B</th>\n",
       "      <th>C</th>\n",
       "      <th>D</th>\n",
       "    </tr>\n",
       "  </thead>\n",
       "  <tbody>\n",
       "    <tr>\n",
       "      <td>a</td>\n",
       "      <td>0.721853</td>\n",
       "      <td>0.519032</td>\n",
       "      <td>0.905460</td>\n",
       "      <td>0.383149</td>\n",
       "    </tr>\n",
       "    <tr>\n",
       "      <td>b</td>\n",
       "      <td>0.643328</td>\n",
       "      <td>0.431230</td>\n",
       "      <td>0.668280</td>\n",
       "      <td>0.661540</td>\n",
       "    </tr>\n",
       "    <tr>\n",
       "      <td>c</td>\n",
       "      <td>0.615199</td>\n",
       "      <td>0.115021</td>\n",
       "      <td>0.961356</td>\n",
       "      <td>0.596139</td>\n",
       "    </tr>\n",
       "    <tr>\n",
       "      <td>d</td>\n",
       "      <td>0.121122</td>\n",
       "      <td>0.801448</td>\n",
       "      <td>0.736911</td>\n",
       "      <td>0.349168</td>\n",
       "    </tr>\n",
       "  </tbody>\n",
       "</table>\n",
       "</div>"
      ],
      "text/plain": [
       "          A         B         C         D\n",
       "a  0.721853  0.519032  0.905460  0.383149\n",
       "b  0.643328  0.431230  0.668280  0.661540\n",
       "c  0.615199  0.115021  0.961356  0.596139\n",
       "d  0.121122  0.801448  0.736911  0.349168"
      ]
     },
     "execution_count": 1,
     "metadata": {},
     "output_type": "execute_result"
    }
   ],
   "source": [
    "import numpy as np\n",
    "import pandas as pd \n",
    "frame = pd.DataFrame(np.random.rand(4,4),index=list('abcd'),columns = list ('ABCD'))\n",
    "frame"
   ]
  },
  {
   "cell_type": "markdown",
   "metadata": {},
   "source": [
    "# loc用欄位來找出DataFrame的資料\n",
    "# iloc用索引來定位DataFrame的資料"
   ]
  },
  {
   "cell_type": "code",
   "execution_count": 2,
   "metadata": {},
   "outputs": [
    {
     "data": {
      "text/html": [
       "<div>\n",
       "<style scoped>\n",
       "    .dataframe tbody tr th:only-of-type {\n",
       "        vertical-align: middle;\n",
       "    }\n",
       "\n",
       "    .dataframe tbody tr th {\n",
       "        vertical-align: top;\n",
       "    }\n",
       "\n",
       "    .dataframe thead th {\n",
       "        text-align: right;\n",
       "    }\n",
       "</style>\n",
       "<table border=\"1\" class=\"dataframe\">\n",
       "  <thead>\n",
       "    <tr style=\"text-align: right;\">\n",
       "      <th></th>\n",
       "      <th>A</th>\n",
       "      <th>B</th>\n",
       "      <th>C</th>\n",
       "      <th>D</th>\n",
       "    </tr>\n",
       "  </thead>\n",
       "  <tbody>\n",
       "    <tr>\n",
       "      <td>count</td>\n",
       "      <td>4.000000</td>\n",
       "      <td>4.000000</td>\n",
       "      <td>4.000000</td>\n",
       "      <td>4.000000</td>\n",
       "    </tr>\n",
       "    <tr>\n",
       "      <td>mean</td>\n",
       "      <td>0.525375</td>\n",
       "      <td>0.466683</td>\n",
       "      <td>0.818002</td>\n",
       "      <td>0.497499</td>\n",
       "    </tr>\n",
       "    <tr>\n",
       "      <td>std</td>\n",
       "      <td>0.273255</td>\n",
       "      <td>0.282684</td>\n",
       "      <td>0.138072</td>\n",
       "      <td>0.154615</td>\n",
       "    </tr>\n",
       "    <tr>\n",
       "      <td>min</td>\n",
       "      <td>0.121122</td>\n",
       "      <td>0.115021</td>\n",
       "      <td>0.668280</td>\n",
       "      <td>0.349168</td>\n",
       "    </tr>\n",
       "    <tr>\n",
       "      <td>25%</td>\n",
       "      <td>0.491679</td>\n",
       "      <td>0.352178</td>\n",
       "      <td>0.719753</td>\n",
       "      <td>0.374654</td>\n",
       "    </tr>\n",
       "    <tr>\n",
       "      <td>50%</td>\n",
       "      <td>0.629263</td>\n",
       "      <td>0.475131</td>\n",
       "      <td>0.821185</td>\n",
       "      <td>0.489644</td>\n",
       "    </tr>\n",
       "    <tr>\n",
       "      <td>75%</td>\n",
       "      <td>0.662959</td>\n",
       "      <td>0.589636</td>\n",
       "      <td>0.919434</td>\n",
       "      <td>0.612489</td>\n",
       "    </tr>\n",
       "    <tr>\n",
       "      <td>max</td>\n",
       "      <td>0.721853</td>\n",
       "      <td>0.801448</td>\n",
       "      <td>0.961356</td>\n",
       "      <td>0.661540</td>\n",
       "    </tr>\n",
       "  </tbody>\n",
       "</table>\n",
       "</div>"
      ],
      "text/plain": [
       "              A         B         C         D\n",
       "count  4.000000  4.000000  4.000000  4.000000\n",
       "mean   0.525375  0.466683  0.818002  0.497499\n",
       "std    0.273255  0.282684  0.138072  0.154615\n",
       "min    0.121122  0.115021  0.668280  0.349168\n",
       "25%    0.491679  0.352178  0.719753  0.374654\n",
       "50%    0.629263  0.475131  0.821185  0.489644\n",
       "75%    0.662959  0.589636  0.919434  0.612489\n",
       "max    0.721853  0.801448  0.961356  0.661540"
      ]
     },
     "execution_count": 2,
     "metadata": {},
     "output_type": "execute_result"
    }
   ],
   "source": [
    "frame.describe()"
   ]
  },
  {
   "cell_type": "code",
   "execution_count": 7,
   "metadata": {},
   "outputs": [
    {
     "data": {
      "text/plain": [
       "0.7218528097485596"
      ]
     },
     "execution_count": 7,
     "metadata": {},
     "output_type": "execute_result"
    }
   ],
   "source": [
    "frame.loc['a','A']# (列,欄)"
   ]
  },
  {
   "cell_type": "code",
   "execution_count": 11,
   "metadata": {},
   "outputs": [
    {
     "data": {
      "text/html": [
       "<div>\n",
       "<style scoped>\n",
       "    .dataframe tbody tr th:only-of-type {\n",
       "        vertical-align: middle;\n",
       "    }\n",
       "\n",
       "    .dataframe tbody tr th {\n",
       "        vertical-align: top;\n",
       "    }\n",
       "\n",
       "    .dataframe thead th {\n",
       "        text-align: right;\n",
       "    }\n",
       "</style>\n",
       "<table border=\"1\" class=\"dataframe\">\n",
       "  <thead>\n",
       "    <tr style=\"text-align: right;\">\n",
       "      <th></th>\n",
       "      <th>A</th>\n",
       "      <th>B</th>\n",
       "      <th>C</th>\n",
       "      <th>D</th>\n",
       "    </tr>\n",
       "  </thead>\n",
       "  <tbody>\n",
       "    <tr>\n",
       "      <td>a</td>\n",
       "      <td>0.721853</td>\n",
       "      <td>0.519032</td>\n",
       "      <td>0.90546</td>\n",
       "      <td>0.383149</td>\n",
       "    </tr>\n",
       "    <tr>\n",
       "      <td>b</td>\n",
       "      <td>0.643328</td>\n",
       "      <td>0.431230</td>\n",
       "      <td>0.66828</td>\n",
       "      <td>0.661540</td>\n",
       "    </tr>\n",
       "  </tbody>\n",
       "</table>\n",
       "</div>"
      ],
      "text/plain": [
       "          A         B        C         D\n",
       "a  0.721853  0.519032  0.90546  0.383149\n",
       "b  0.643328  0.431230  0.66828  0.661540"
      ]
     },
     "execution_count": 11,
     "metadata": {},
     "output_type": "execute_result"
    }
   ],
   "source": [
    "# 取前兩列之資料\n",
    "frame.loc['a':'b',:]"
   ]
  },
  {
   "cell_type": "code",
   "execution_count": 13,
   "metadata": {},
   "outputs": [
    {
     "data": {
      "text/html": [
       "<div>\n",
       "<style scoped>\n",
       "    .dataframe tbody tr th:only-of-type {\n",
       "        vertical-align: middle;\n",
       "    }\n",
       "\n",
       "    .dataframe tbody tr th {\n",
       "        vertical-align: top;\n",
       "    }\n",
       "\n",
       "    .dataframe thead th {\n",
       "        text-align: right;\n",
       "    }\n",
       "</style>\n",
       "<table border=\"1\" class=\"dataframe\">\n",
       "  <thead>\n",
       "    <tr style=\"text-align: right;\">\n",
       "      <th></th>\n",
       "      <th>A</th>\n",
       "      <th>B</th>\n",
       "    </tr>\n",
       "  </thead>\n",
       "  <tbody>\n",
       "    <tr>\n",
       "      <td>a</td>\n",
       "      <td>0.721853</td>\n",
       "      <td>0.519032</td>\n",
       "    </tr>\n",
       "    <tr>\n",
       "      <td>b</td>\n",
       "      <td>0.643328</td>\n",
       "      <td>0.431230</td>\n",
       "    </tr>\n",
       "    <tr>\n",
       "      <td>c</td>\n",
       "      <td>0.615199</td>\n",
       "      <td>0.115021</td>\n",
       "    </tr>\n",
       "    <tr>\n",
       "      <td>d</td>\n",
       "      <td>0.121122</td>\n",
       "      <td>0.801448</td>\n",
       "    </tr>\n",
       "  </tbody>\n",
       "</table>\n",
       "</div>"
      ],
      "text/plain": [
       "          A         B\n",
       "a  0.721853  0.519032\n",
       "b  0.643328  0.431230\n",
       "c  0.615199  0.115021\n",
       "d  0.121122  0.801448"
      ]
     },
     "execution_count": 13,
     "metadata": {},
     "output_type": "execute_result"
    }
   ],
   "source": [
    "# 取前兩欄之資料\n",
    "frame.loc[:,'A':'B']"
   ]
  },
  {
   "cell_type": "code",
   "execution_count": 17,
   "metadata": {},
   "outputs": [
    {
     "name": "stdout",
     "output_type": "stream",
     "text": [
      "          A         B         C         D\n",
      "a  0.721853  0.519032  0.905460  0.383149\n",
      "c  0.615199  0.115021  0.961356  0.596139\n",
      "          A         B\n",
      "a  0.721853  0.519032\n",
      "b  0.643328  0.431230\n",
      "c  0.615199  0.115021\n",
      "d  0.121122  0.801448\n",
      "          A         D\n",
      "a  0.721853  0.383149\n",
      "d  0.121122  0.349168\n"
     ]
    }
   ],
   "source": [
    "# 取特殊列、欄之資料\n",
    "print(frame.loc[['a','c'],:])\n",
    "print(frame.loc[:,['A','B']])\n",
    "print(frame.loc[['a','d'],['A','D']])"
   ]
  },
  {
   "cell_type": "markdown",
   "metadata": {},
   "source": [
    "# iloc是利用列索引與欄索引進行資料查找，都是從零開始"
   ]
  },
  {
   "cell_type": "code",
   "execution_count": 18,
   "metadata": {},
   "outputs": [
    {
     "data": {
      "text/plain": [
       "0.7218528097485596"
      ]
     },
     "execution_count": 18,
     "metadata": {},
     "output_type": "execute_result"
    }
   ],
   "source": [
    "frame.iloc[0,0]"
   ]
  },
  {
   "cell_type": "code",
   "execution_count": 24,
   "metadata": {},
   "outputs": [
    {
     "data": {
      "text/html": [
       "<div>\n",
       "<style scoped>\n",
       "    .dataframe tbody tr th:only-of-type {\n",
       "        vertical-align: middle;\n",
       "    }\n",
       "\n",
       "    .dataframe tbody tr th {\n",
       "        vertical-align: top;\n",
       "    }\n",
       "\n",
       "    .dataframe thead th {\n",
       "        text-align: right;\n",
       "    }\n",
       "</style>\n",
       "<table border=\"1\" class=\"dataframe\">\n",
       "  <thead>\n",
       "    <tr style=\"text-align: right;\">\n",
       "      <th></th>\n",
       "      <th>A</th>\n",
       "      <th>B</th>\n",
       "      <th>C</th>\n",
       "      <th>D</th>\n",
       "    </tr>\n",
       "  </thead>\n",
       "  <tbody>\n",
       "    <tr>\n",
       "      <td>a</td>\n",
       "      <td>0.721853</td>\n",
       "      <td>0.519032</td>\n",
       "      <td>0.90546</td>\n",
       "      <td>0.383149</td>\n",
       "    </tr>\n",
       "    <tr>\n",
       "      <td>b</td>\n",
       "      <td>0.643328</td>\n",
       "      <td>0.431230</td>\n",
       "      <td>0.66828</td>\n",
       "      <td>0.661540</td>\n",
       "    </tr>\n",
       "  </tbody>\n",
       "</table>\n",
       "</div>"
      ],
      "text/plain": [
       "          A         B        C         D\n",
       "a  0.721853  0.519032  0.90546  0.383149\n",
       "b  0.643328  0.431230  0.66828  0.661540"
      ]
     },
     "execution_count": 24,
     "metadata": {},
     "output_type": "execute_result"
    }
   ],
   "source": [
    "frame.iloc[0:2,:]"
   ]
  },
  {
   "cell_type": "code",
   "execution_count": 26,
   "metadata": {},
   "outputs": [
    {
     "name": "stdout",
     "output_type": "stream",
     "text": [
      "          A         B         C         D\n",
      "a  0.721853  0.519032  0.905460  0.383149\n",
      "c  0.615199  0.115021  0.961356  0.596139\n",
      "          A         C\n",
      "a  0.721853  0.905460\n",
      "b  0.643328  0.668280\n",
      "c  0.615199  0.961356\n",
      "d  0.121122  0.736911\n",
      "          A         D\n",
      "a  0.721853  0.383149\n",
      "d  0.121122  0.349168\n"
     ]
    }
   ],
   "source": [
    "print(frame.iloc[[0,2],:])\n",
    "print(frame.iloc[:,[0,2]])\n",
    "print(frame.iloc[[0,3],[0,3]])"
   ]
  },
  {
   "cell_type": "code",
   "execution_count": 28,
   "metadata": {},
   "outputs": [
    {
     "name": "stdout",
     "output_type": "stream",
     "text": [
      "0    False\n",
      "1    False\n",
      "2    False\n",
      "3    False\n",
      "4    False\n",
      "5    False\n",
      "Name: groups, dtype: bool\n",
      "0     True\n",
      "1     True\n",
      "2     True\n",
      "3     True\n",
      "4     True\n",
      "5    False\n",
      "Name: ironman, dtype: bool\n"
     ]
    }
   ],
   "source": [
    "import numpy as np\n",
    "import pandas as pd \n",
    "groups = [\"modern web\",\"devops\",np.nan,\"big data\",\"security\",\"自我挑戰組\"]\n",
    "ironman = [59,9,19,14,6,np.nan]\n",
    "ironman_dict = {\"groups\":groups,\"ironman\":ironman}\n",
    "ironman_df = pd.DataFrame(ironman_dict)\n",
    "print(ironman_df.loc[:,\"groups\"].isnull())\n",
    "print(ironman_df.loc[:,\"ironman\"].notnull())"
   ]
  },
  {
   "cell_type": "code",
   "execution_count": 33,
   "metadata": {},
   "outputs": [
    {
     "name": "stdout",
     "output_type": "stream",
     "text": [
      "Series([], Name: groups, dtype: object)\n",
      "Series([], Name: ironman, dtype: float64)\n"
     ]
    }
   ],
   "source": [
    "print(ironman_df.groups[ironman_df.loc[:,\"groups\"].isnull()])\n",
    "print(ironman_df.ironman[ironman_df.loc[:,\"groups\"].isnull()])"
   ]
  },
  {
   "cell_type": "code",
   "execution_count": 34,
   "metadata": {},
   "outputs": [
    {
     "name": "stdout",
     "output_type": "stream",
     "text": [
      "       groups  ironman\n",
      "0  modern web     59.0\n",
      "1      devops      9.0\n",
      "2       cloud     19.0\n",
      "3    big data     14.0\n",
      "4    security      6.0\n",
      "5       自我挑戰組      NaN\n",
      "       groups  ironman\n",
      "0  modern web     59.0\n",
      "1      devops      9.0\n",
      "2       cloud     19.0\n",
      "3    big data     14.0\n",
      "4    security      6.0\n",
      "       groups  ironman\n",
      "0  modern web     59.0\n",
      "1      devops      9.0\n",
      "2       cloud     19.0\n",
      "3    big data     14.0\n",
      "4    security      6.0\n",
      "5       自我挑戰組      0.0\n",
      "       groups  ironman\n",
      "0  modern web     59.0\n",
      "1      devops      9.0\n",
      "2       cloud     19.0\n",
      "3    big data     14.0\n",
      "4    security      6.0\n",
      "5       自我挑戰組     71.0\n"
     ]
    }
   ],
   "source": [
    "print(ironman_df)\n",
    "ironman_df_dropped = ironman_df.dropna()#刪除遺失值\n",
    "print(ironman_df_dropped)\n",
    "ironman_df_filled = ironman_df.fillna(0)\n",
    "print(ironman_df_filled)\n",
    "ironman_df_fillvalue = ironman_df.fillna({\"groups\":\"cloud\",\"ironman\":71})\n",
    "print(ironman_df_fillvalue)"
   ]
  },
  {
   "cell_type": "code",
   "execution_count": null,
   "metadata": {},
   "outputs": [],
   "source": []
  }
 ],
 "metadata": {
  "kernelspec": {
   "display_name": "Python 3",
   "language": "python",
   "name": "python3"
  },
  "language_info": {
   "codemirror_mode": {
    "name": "ipython",
    "version": 3
   },
   "file_extension": ".py",
   "mimetype": "text/x-python",
   "name": "python",
   "nbconvert_exporter": "python",
   "pygments_lexer": "ipython3",
   "version": "3.7.4"
  }
 },
 "nbformat": 4,
 "nbformat_minor": 2
}

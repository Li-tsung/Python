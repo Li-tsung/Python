{
 "cells": [
  {
   "cell_type": "markdown",
   "metadata": {},
   "source": [
    "# 第四章 Python 物件\n",
    "# list:串列()\n",
    "# Tuple:不能更新的串列[]\n",
    "# Dist:有鍵值(KEY)的串列{}\n",
    "## list串列"
   ]
  },
  {
   "cell_type": "code",
   "execution_count": 16,
   "metadata": {},
   "outputs": [
    {
     "name": "stdout",
     "output_type": "stream",
     "text": [
      "[]\n",
      "[]\n",
      "py\n",
      "js\n",
      "SQL\n",
      "asd\n",
      "4\n",
      "2\n"
     ]
    }
   ],
   "source": [
    "my_list0 = []\n",
    "my_list1 = list()\n",
    "my_list2 = [\"py\",\"js\",\"SQL\"]\n",
    "my_list2.append('asd')#附加於最後\n",
    "print(my_list0)\n",
    "print(my_list1)\n",
    "print(my_list2[0])\n",
    "print(my_list2[1])\n",
    "print(my_list2[2])\n",
    "print(my_list2[3])\n",
    "#長度len\n",
    "print(len(my_list2))\n",
    "print(len(my_list2[0]))"
   ]
  },
  {
   "cell_type": "markdown",
   "metadata": {},
   "source": [
    "# 新增特定位置"
   ]
  },
  {
   "cell_type": "code",
   "execution_count": 18,
   "metadata": {},
   "outputs": [
    {
     "name": "stdout",
     "output_type": "stream",
     "text": [
      "['java', 'py', 'js', 'SQL']\n"
     ]
    }
   ],
   "source": [
    "my_list3 = [\"py\",\"js\",\"SQL\"]\n",
    "my_list3.insert(0,'java')\n",
    "print(my_list3)"
   ]
  },
  {
   "cell_type": "markdown",
   "metadata": {},
   "source": [
    "# 刪除"
   ]
  },
  {
   "cell_type": "code",
   "execution_count": 19,
   "metadata": {},
   "outputs": [
    {
     "name": "stdout",
     "output_type": "stream",
     "text": [
      "['js', 'SQL', 'java']\n",
      "['js', 'SQL']\n"
     ]
    }
   ],
   "source": [
    "my_list4 = [\"py\",\"js\",\"SQL\",\"java\"]\n",
    "del my_list4[0]\n",
    "print(my_list4)\n",
    "del my_list4[-1]\n",
    "print(my_list4)"
   ]
  },
  {
   "cell_type": "markdown",
   "metadata": {},
   "source": [
    "# 檢查是否存在"
   ]
  },
  {
   "cell_type": "code",
   "execution_count": 21,
   "metadata": {},
   "outputs": [
    {
     "name": "stdout",
     "output_type": "stream",
     "text": [
      "True\n",
      "False\n"
     ]
    }
   ],
   "source": [
    "my_list4 = [\"py\",\"js\",\"SQL\",\"java\"]\n",
    "print(\"java\" in my_list4)\n",
    "print(\"go\" in my_list4)"
   ]
  },
  {
   "cell_type": "markdown",
   "metadata": {},
   "source": [
    "# 串列重複"
   ]
  },
  {
   "cell_type": "code",
   "execution_count": 22,
   "metadata": {},
   "outputs": [
    {
     "name": "stdout",
     "output_type": "stream",
     "text": [
      "[1, 2, 1, 2, 1, 2, 1, 2, 1, 2]\n"
     ]
    }
   ],
   "source": [
    "a = [1,2]\n",
    "print(a*5)"
   ]
  },
  {
   "cell_type": "markdown",
   "metadata": {},
   "source": [
    "# 串列取值"
   ]
  },
  {
   "cell_type": "code",
   "execution_count": 23,
   "metadata": {},
   "outputs": [
    {
     "name": "stdout",
     "output_type": "stream",
     "text": [
      "[1, 2, 3]\n",
      "[1, 3, 5, 7, 9]\n",
      "[1, 2, 3, 4, 5, 6, 7]\n",
      "7\n",
      "1\n",
      "0\n",
      "1\n",
      "[7, 6, 5, 4, 3, 2, 1]\n",
      "[1, 2, 3, 4, 5, 6, 7]\n"
     ]
    }
   ],
   "source": [
    "a= [1,2,3,4,5,6,7,8,9]\n",
    "b=a[0:3]#範圍取值\n",
    "print(b)\n",
    "c=a[0:9:2]#間隔取值\n",
    "print(c)\n",
    "del a[7:9]#刪除串列某範圍的值\n",
    "print(a)\n",
    "print(max(a))\n",
    "print(min(a))\n",
    "print(a.index(1))#查詢所在位置的值\n",
    "print(a.count(1))#計算此數出現次數\n",
    "a.reverse()#反轉\n",
    "print(a)\n",
    "a.sort()#排序\n",
    "print(a)"
   ]
  },
  {
   "cell_type": "markdown",
   "metadata": {},
   "source": [
    "## Tuple(元組)\n",
    "Tuple(元組)可視為不可改變的串列，tuple跟list很像，但是我們不能新增、刪除或更新tuple的元素，tuple的好處有:\n",
    "1. 占用較少空間\n",
    "2. 可當作dicionary(字典)的鍵值\n",
    "3. 可當作函式引數"
   ]
  },
  {
   "cell_type": "code",
   "execution_count": 24,
   "metadata": {},
   "outputs": [
    {
     "name": "stdout",
     "output_type": "stream",
     "text": [
      "('py', 'js', 'SQL', 'java')\n",
      "('go', 'c#', 'vb')\n",
      "go\n"
     ]
    }
   ],
   "source": [
    "a_tuple = (\"py\",\"js\",\"SQL\",\"java\")\n",
    "print(a_tuple)\n",
    "b_list = ['go','c#','vb']\n",
    "b_tuple = tuple(b_list)\n",
    "print(b_tuple)\n",
    "print(b_tuple[0])"
   ]
  },
  {
   "cell_type": "markdown",
   "metadata": {},
   "source": [
    "# 字典(dictionary-dict)為帶有鍵值(key)的串列(list)"
   ]
  },
  {
   "cell_type": "code",
   "execution_count": 4,
   "metadata": {},
   "outputs": [
    {
     "name": "stdout",
     "output_type": "stream",
     "text": [
      "python\n",
      "3.7\n",
      "python\n",
      "java\n",
      "sql\n",
      "dict_keys(['name', 'version'])\n",
      "dict_values(['python', '3.7'])\n",
      "dict_items([('name', 'python'), ('version', '3.7')])\n",
      "True\n"
     ]
    }
   ],
   "source": [
    "lang = {}\n",
    "lang = {'name':'python','version':'3.7'}\n",
    "print(lang['name'])\n",
    "print(lang['version'])\n",
    "a={0:'python',1:'java',2:'sql'}\n",
    "print(a[0])\n",
    "print(a[1])\n",
    "print(a[2])\n",
    "print(lang.keys())\n",
    "print(lang.values())\n",
    "print(lang.items())\n",
    "print('name' in lang) #判斷字串name是否在lang裡"
   ]
  },
  {
   "cell_type": "code",
   "execution_count": 5,
   "metadata": {},
   "outputs": [
    {
     "name": "stdout",
     "output_type": "stream",
     "text": [
      "{'name': 'python', 'version': '3.7'}\n",
      "{'name': 'python', 'version': '3.7'}\n",
      "{}\n",
      "python\n",
      "python\n",
      "{'name': 'java', 'version': '3.7'}\n"
     ]
    }
   ],
   "source": [
    "a = {'name':'python','version':'3.7'}\n",
    "print(a)\n",
    "b = a.copy()\n",
    "print(b)\n",
    "b.clear()\n",
    "print(b)\n",
    "print(a['name'])\n",
    "print(a.get('name'))\n",
    "a.update({'name':'java'})\n",
    "print(a)"
   ]
  },
  {
   "cell_type": "code",
   "execution_count": null,
   "metadata": {},
   "outputs": [],
   "source": []
  }
 ],
 "metadata": {
  "kernelspec": {
   "display_name": "Python 3",
   "language": "python",
   "name": "python3"
  },
  "language_info": {
   "codemirror_mode": {
    "name": "ipython",
    "version": 3
   },
   "file_extension": ".py",
   "mimetype": "text/x-python",
   "name": "python",
   "nbconvert_exporter": "python",
   "pygments_lexer": "ipython3",
   "version": "3.7.4"
  }
 },
 "nbformat": 4,
 "nbformat_minor": 2
}

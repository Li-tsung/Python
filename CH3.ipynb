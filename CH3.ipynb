{
 "cells": [
  {
   "cell_type": "markdown",
   "metadata": {},
   "source": [
    "# 流程控制"
   ]
  },
  {
   "cell_type": "markdown",
   "metadata": {},
   "source": [
    "# if else"
   ]
  },
  {
   "cell_type": "code",
   "execution_count": 3,
   "metadata": {},
   "outputs": [
    {
     "name": "stdout",
     "output_type": "stream",
     "text": [
      "b大\n"
     ]
    }
   ],
   "source": [
    "a = 1\n",
    "b = 2\n",
    "if a<b:\n",
    "    print('b大')\n",
    "else:\n",
    "    print('a大')"
   ]
  },
  {
   "cell_type": "markdown",
   "metadata": {},
   "source": [
    "## for迴圈"
   ]
  },
  {
   "cell_type": "code",
   "execution_count": 5,
   "metadata": {},
   "outputs": [
    {
     "name": "stdout",
     "output_type": "stream",
     "text": [
      "55\n"
     ]
    }
   ],
   "source": [
    "sum = 0\n",
    "for count in range(11):#1~10\n",
    "    sum+= count\n",
    "print(sum)\n",
    "sum = 0\n",
    "for count in range(1,11,1):#1~10\n",
    "    sum+= count\n",
    "print(sum)"
   ]
  },
  {
   "cell_type": "code",
   "execution_count": 8,
   "metadata": {},
   "outputs": [
    {
     "name": "stdout",
     "output_type": "stream",
     "text": [
      "f\n",
      "o\n",
      "r\n",
      " \n",
      "s\n",
      "t\n",
      "a\n",
      "m\n",
      "e\n",
      "n\n",
      "t\n",
      "...end\n"
     ]
    }
   ],
   "source": [
    "mylist=\"for stament\"\n",
    "for word in mylist:\n",
    "    print(word)\n",
    "else:\n",
    "    print(\"...end\")"
   ]
  },
  {
   "cell_type": "markdown",
   "metadata": {},
   "source": [
    "## 雞兔同籠:35頭，94腳，雞兔各幾隻?"
   ]
  },
  {
   "cell_type": "code",
   "execution_count": 14,
   "metadata": {},
   "outputs": [
    {
     "name": "stdout",
     "output_type": "stream",
     "text": [
      "雞: 23 兔 12 隻\n"
     ]
    }
   ],
   "source": [
    "for ch in range(0,35):\n",
    "    ra = 35-ch\n",
    "    if(2*ch+4*ra==94):\n",
    "        print(\"雞:\",ch,\"兔:\",ra,\"隻\")\n",
    "        break\n",
    "else:\n",
    "        print(\"無解\")"
   ]
  },
  {
   "cell_type": "markdown",
   "metadata": {},
   "source": [
    "## While 迴圈"
   ]
  },
  {
   "cell_type": "code",
   "execution_count": 16,
   "metadata": {
    "scrolled": true
   },
   "outputs": [
    {
     "name": "stdout",
     "output_type": "stream",
     "text": [
      "1+2+3...+10= 55\n"
     ]
    }
   ],
   "source": [
    "sum = 0\n",
    "count = 1\n",
    "while count<=10:\n",
    "    sum +=count\n",
    "    count+=1\n",
    "print(\"1+2+3...+10=\",sum)"
   ]
  },
  {
   "cell_type": "markdown",
   "metadata": {},
   "source": [
    "# 本金10000元，年利率1%，請問多久銀行存款會加倍"
   ]
  },
  {
   "cell_type": "code",
   "execution_count": 1,
   "metadata": {},
   "outputs": [
    {
     "name": "stdout",
     "output_type": "stream",
     "text": [
      "70 年以後，存款加倍，為 20067 元\n"
     ]
    }
   ],
   "source": [
    "x=10000\n",
    "year=0\n",
    "while x <= 20000:\n",
    "    year += 1\n",
    "    x=x*1.01\n",
    "print(str(year),\"年以後，存款加倍，為\",int(x),\"元\")"
   ]
  },
  {
   "cell_type": "markdown",
   "metadata": {},
   "source": [
    "# 猜數字"
   ]
  },
  {
   "cell_type": "code",
   "execution_count": 2,
   "metadata": {},
   "outputs": [
    {
     "name": "stdout",
     "output_type": "stream",
     "text": [
      "請輸入1~100之間的數字：100\n",
      "猜錯了\n",
      "請輸入1~100之間的數字：11\n",
      "你猜對了，數字是： 11\n"
     ]
    }
   ],
   "source": [
    "number=11\n",
    "while True:\n",
    "    guess=int(input('請輸入1~100之間的數字：'))\n",
    "    if guess == number:\n",
    "        print('你猜對了，數字是：',number)\n",
    "        break#程式跳出\n",
    "    else:\n",
    "        print('猜錯了')"
   ]
  },
  {
   "cell_type": "code",
   "execution_count": 1,
   "metadata": {},
   "outputs": [
    {
     "name": "stdout",
     "output_type": "stream",
     "text": [
      "請輸入1~10之間的數字：1\n",
      "猜錯了\n",
      "請輸入1~10之間的數字：2\n",
      "猜錯了\n",
      "請輸入1~10之間的數字：9\n",
      "猜錯了\n",
      "請輸入1~10之間的數字：10\n",
      "猜錯了\n",
      "請輸入1~10之間的數字：5\n",
      "猜錯了\n",
      "請輸入1~10之間的數字：6\n",
      "猜錯了\n",
      "請輸入1~10之間的數字：7\n",
      "猜錯了\n",
      "請輸入1~10之間的數字：8\n",
      "你猜對了，數字是： 8\n"
     ]
    }
   ],
   "source": [
    "import random\n",
    "number=random.randint(1,10)\n",
    "while True:\n",
    "    guess=int(input('請輸入1~10之間的數字：'))\n",
    "    if guess == number:\n",
    "        print('你猜對了，數字是：',number)\n",
    "        break\n",
    "    else:\n",
    "        print('猜錯了')"
   ]
  },
  {
   "cell_type": "code",
   "execution_count": null,
   "metadata": {},
   "outputs": [],
   "source": []
  }
 ],
 "metadata": {
  "kernelspec": {
   "display_name": "Python 3",
   "language": "python",
   "name": "python3"
  },
  "language_info": {
   "codemirror_mode": {
    "name": "ipython",
    "version": 3
   },
   "file_extension": ".py",
   "mimetype": "text/x-python",
   "name": "python",
   "nbconvert_exporter": "python",
   "pygments_lexer": "ipython3",
   "version": "3.7.4"
  }
 },
 "nbformat": 4,
 "nbformat_minor": 2
}
